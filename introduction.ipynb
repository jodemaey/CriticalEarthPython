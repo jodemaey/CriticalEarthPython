{
 "cells": [
  {
   "cell_type": "markdown",
   "metadata": {},
   "source": [
    "## Introduction\n",
    "\n",
    "This notebook is adapted from the following tutorials :\n",
    "\n",
    "* [https://github.com/pdebuyl/fosdemx_2018_numpy](https://github.com/pdebuyl/fosdemx_2018_numpy)\n",
    "* [https://github.com/pdebuyl/2018_nonequilibrium_simulations](https://github.com/pdebuyl/2018_nonequilibrium_simulations)\n",
    "\n",
    "by [Pierre de Buyl](http://pdebuyl.be/) from RMIB."
   ]
  },
  {
   "cell_type": "markdown",
   "metadata": {},
   "source": [
    "### Advantage of Python: Mathematics, arrays and programming\n",
    "\n",
    "- Interpreted *and* typed language.\n",
    "- Suitable for procedural, functional and object oriented programming.\n",
    "- Open source implementation.\n",
    "- \"General\" programming language: useful for science,\n",
    "  web/GUI/database programming, games, hardware interfacing, whatever you can think of.\n",
    "- One of the reasons of Python's popularity in science comes from a standardized\n",
    "  type for *arrays*, NumPy's `np.ndarray`\n",
    "- The many available libraries can be installed easily with packages managers like [Anaconda](https://www.anaconda.com/) or [pip](https://pypi.org/)\n",
    "- Can be used inside [Jupyter](http://jupyter.org/) notebooks\n",
    "- Also: Python can easily call C or Fortran code, Python is open-source (thus free to install on your computer).\n"
   ]
  },
  {
   "cell_type": "markdown",
   "metadata": {},
   "source": [
    "### Disadvantages:\n",
    "\n",
    "- Slow (but there are solutions, see [numba](https://numba.pydata.org/) for instance).\n",
    "- The GIL\n"
   ]
  },
  {
   "cell_type": "markdown",
   "metadata": {},
   "source": [
    "### Basic Python\n",
    "\n",
    "\n",
    "References:\n",
    "- The official website https://www.python.org\n",
    "- Scientific Python references:\n",
    "  - https://docs.scipy.org/doc/\n",
    "  - http://www.scipy-lectures.org/\n",
    "  - https://www.euroscipy.org/\n"
   ]
  },
  {
   "cell_type": "markdown",
   "metadata": {},
   "source": [
    "### The present notes\n",
    "\n",
    "- This is a \"Jupyter notebook\", see http://jupyter.org/\n",
    "- Cells can be either text (markdown + LaTeX) or code\n",
    "- Use `Shift + Enter` to execute a cell"
   ]
  },
  {
   "cell_type": "markdown",
   "metadata": {},
   "source": [
    "### Crash course!"
   ]
  },
  {
   "cell_type": "code",
   "execution_count": null,
   "metadata": {},
   "outputs": [],
   "source": [
    "print(\"Hello, world!\")"
   ]
  },
  {
   "cell_type": "code",
   "execution_count": null,
   "metadata": {},
   "outputs": [],
   "source": [
    "# Variables\n",
    "\n",
    "a = 1\n",
    "print(a, type(a))\n",
    "a = '1'\n",
    "print(a, type(a))\n",
    "a = 1.0\n",
    "print(a, type(a))\n"
   ]
  },
  {
   "cell_type": "code",
   "execution_count": null,
   "metadata": {},
   "outputs": [],
   "source": [
    "# Loops\n",
    "\n",
    "for a in [1, '1', 1.0]:\n",
    "    print(a, type(a))"
   ]
  },
  {
   "cell_type": "code",
   "execution_count": null,
   "metadata": {},
   "outputs": [],
   "source": [
    "# Conditions\n",
    "if a == 2:\n",
    "    print('It is worth 2')\n",
    "elif a == 1:\n",
    "    print('It is worth 1')\n",
    "else:\n",
    "    print('What is it worth?')"
   ]
  },
  {
   "cell_type": "code",
   "execution_count": null,
   "metadata": {},
   "outputs": [],
   "source": [
    "# Functions\n",
    "\n",
    "def my_function(x, y):\n",
    "    return x+y\n",
    "\n",
    "print(my_function(1, 1))\n",
    "print(my_function('one ', 'two'))\n",
    "print(my_function(1.0, 2.0))\n",
    "print(my_function(1.0, 'two'))"
   ]
  },
  {
   "cell_type": "markdown",
   "metadata": {
    "slideshow": {
     "slide_type": "slide"
    }
   },
   "source": [
    "### Numpy: Math with arrays\n",
    "\n",
    "- An array is a \"container\" for numerical values.\n",
    "- NumPy performs operations on arrays element-wise.\n",
    "- `a = 2*x` multiplies every element by two."
   ]
  },
  {
   "cell_type": "code",
   "execution_count": null,
   "metadata": {},
   "outputs": [],
   "source": [
    "import numpy as np"
   ]
  },
  {
   "cell_type": "code",
   "execution_count": null,
   "metadata": {},
   "outputs": [],
   "source": [
    "a = np.arange(10)\n",
    "a"
   ]
  },
  {
   "cell_type": "code",
   "execution_count": null,
   "metadata": {},
   "outputs": [],
   "source": [
    "2*a"
   ]
  },
  {
   "cell_type": "code",
   "execution_count": null,
   "metadata": {},
   "outputs": [],
   "source": [
    "np.sin(a)"
   ]
  },
  {
   "cell_type": "code",
   "execution_count": null,
   "metadata": {},
   "outputs": [],
   "source": [
    "b = np.arange(20).reshape((4, 5)) # Change the shape\n",
    "b"
   ]
  },
  {
   "cell_type": "markdown",
   "metadata": {},
   "source": [
    "### Features of NumPy\n",
    "\n",
    "- Array data type\n",
    "- Mathematical functions (basic operations, trigonometric functions, floor, etc)\n",
    "- Linear algebra\n",
    "- Random numbers\n",
    "- Fourier transforms"
   ]
  },
  {
   "cell_type": "markdown",
   "metadata": {},
   "source": [
    "### What's in an array?"
   ]
  },
  {
   "cell_type": "code",
   "execution_count": null,
   "metadata": {},
   "outputs": [],
   "source": [
    "print(a.dtype)\n",
    "print(a.ndim)\n",
    "print(a.shape)\n",
    "print(a.nbytes)\n",
    "print(a.flags)\n",
    "print(a.data)"
   ]
  },
  {
   "cell_type": "markdown",
   "metadata": {},
   "source": [
    "### Array indexing\n",
    "\n",
    "**Indices always start at 0 in Python !!!**\n",
    "\n",
    "- `a[i:j]` skips the i first elements and goes up to **j-1**\n",
    "- `b[k,l]` returns the element from the (k-1)-th row, (l-1)-th column\n",
    "- `b[:,0]` returns the first column and `b[0,:]` the first row"
   ]
  },
  {
   "cell_type": "code",
   "execution_count": null,
   "metadata": {},
   "outputs": [],
   "source": [
    "a[1:4]"
   ]
  },
  {
   "cell_type": "code",
   "execution_count": null,
   "metadata": {},
   "outputs": [],
   "source": [
    "b[1,2]"
   ]
  },
  {
   "cell_type": "code",
   "execution_count": null,
   "metadata": {},
   "outputs": [],
   "source": [
    "b[:, 2]"
   ]
  },
  {
   "cell_type": "markdown",
   "metadata": {},
   "source": [
    "## Array multiplication\n",
    "\n",
    "- NumPy provides basic linear algebra routines\n",
    "- Array multiplication supports the `@` operator"
   ]
  },
  {
   "cell_type": "code",
   "execution_count": null,
   "metadata": {},
   "outputs": [],
   "source": [
    "# A 2D rotation by 90° counterclockwise\n",
    "rotation_matrix = np.array([[0, -1], [1, 0]])\n",
    "unit_x = np.array([1, 0])\n",
    "print(rotation_matrix @ unit_x)"
   ]
  },
  {
   "cell_type": "markdown",
   "metadata": {},
   "source": [
    "### Summing along an axis\n",
    "\n",
    "Other operations: mean, std, min, max."
   ]
  },
  {
   "cell_type": "code",
   "execution_count": null,
   "metadata": {},
   "outputs": [],
   "source": [
    "print(\"Sum a column\", b.sum(axis=0))\n",
    "print(\"Sum a row   \", b.sum(axis=1))"
   ]
  },
  {
   "cell_type": "markdown",
   "metadata": {},
   "source": [
    "## Some applications"
   ]
  },
  {
   "cell_type": "markdown",
   "metadata": {
    "slideshow": {
     "slide_type": "slide"
    }
   },
   "source": [
    "### Example 1:  Loading data\n",
    "\n",
    "- Temperature records from the Climatic Research Unit of the University of East Anglia\n",
    "- Link to data collection: https://crudata.uea.ac.uk/cru/data/hrg/cru_ts_3.23/crucy.1506241137.v3.23/"
   ]
  },
  {
   "cell_type": "code",
   "execution_count": null,
   "metadata": {},
   "outputs": [],
   "source": [
    "!wget https://crudata.uea.ac.uk/cru/data/hrg/cru_ts_3.23/crucy.1506241137.v3.23/countries/tmp/crucy.v3.23.1901.2014.Belgium.tmp.per"
   ]
  },
  {
   "cell_type": "markdown",
   "metadata": {},
   "source": [
    "Putting a ! in front of a command run it in a terminal"
   ]
  },
  {
   "cell_type": "markdown",
   "metadata": {},
   "source": [
    "Listing the files:"
   ]
  },
  {
   "cell_type": "code",
   "execution_count": null,
   "metadata": {
    "slideshow": {
     "slide_type": "slide"
    }
   },
   "outputs": [],
   "source": [
    "ls"
   ]
  },
  {
   "cell_type": "code",
   "execution_count": null,
   "metadata": {},
   "outputs": [],
   "source": [
    "!head crucy.v3.23.1901.2014.Belgium.tmp.per"
   ]
  },
  {
   "cell_type": "code",
   "execution_count": null,
   "metadata": {
    "slideshow": {
     "slide_type": "slide"
    }
   },
   "outputs": [],
   "source": [
    "# load the relevant columns of data and rearrange the data in a 1D array\n",
    "temperature_data = np.loadtxt('crucy.v3.23.1901.2014.Belgium.tmp.per', skiprows=4)"
   ]
  },
  {
   "cell_type": "code",
   "execution_count": null,
   "metadata": {},
   "outputs": [],
   "source": [
    "temperature_data.shape"
   ]
  },
  {
   "cell_type": "markdown",
   "metadata": {},
   "source": [
    "Plotting can be done with the [matplotlib](https://matplotlib.org/) library:"
   ]
  },
  {
   "cell_type": "code",
   "execution_count": null,
   "metadata": {},
   "outputs": [],
   "source": [
    "import matplotlib.pyplot as plt"
   ]
  },
  {
   "cell_type": "code",
   "execution_count": null,
   "metadata": {
    "slideshow": {
     "slide_type": "slide"
    }
   },
   "outputs": [],
   "source": [
    "# Plot the temperature every year in january\n",
    "plt.figure()\n",
    "plt.plot(temperature_data[:, 0], temperature_data[:,1])\n",
    "plt.xlabel('year')\n",
    "plt.ylabel('Monthly averaged T')\n",
    "plt.title(\"January in Belgium\");"
   ]
  },
  {
   "cell_type": "code",
   "execution_count": null,
   "metadata": {
    "slideshow": {
     "slide_type": "slide"
    }
   },
   "outputs": [],
   "source": [
    "# Plot the average monthly temperature\n",
    "plt.figure()\n",
    "plt.plot(np.arange(1,13), np.mean(temperature_data[:,1:13], axis=0))\n",
    "plt.xlabel('Month')\n",
    "plt.ylabel('Averaged T')\n",
    "plt.title(\"Temperature averaged from 1901 to 2014 over Belgium\");"
   ]
  },
  {
   "cell_type": "markdown",
   "metadata": {
    "slideshow": {
     "slide_type": "slide"
    }
   },
   "source": [
    "### Example 2: image data"
   ]
  },
  {
   "cell_type": "code",
   "execution_count": null,
   "metadata": {},
   "outputs": [],
   "source": [
    "# import data from scipy\n",
    "from scipy import misc\n",
    "f = misc.face(gray=True)"
   ]
  },
  {
   "cell_type": "code",
   "execution_count": null,
   "metadata": {
    "slideshow": {
     "slide_type": "slide"
    }
   },
   "outputs": [],
   "source": [
    "plt.figure()\n",
    "plt.imshow(f, cmap=plt.cm.gray)"
   ]
  },
  {
   "cell_type": "code",
   "execution_count": null,
   "metadata": {
    "slideshow": {
     "slide_type": "slide"
    }
   },
   "outputs": [],
   "source": [
    "# Display the distribution of intensity\n",
    "plt.figure()\n",
    "plt.hist(f.flatten(), bins=32);\n"
   ]
  },
  {
   "cell_type": "code",
   "execution_count": null,
   "metadata": {
    "slideshow": {
     "slide_type": "slide"
    }
   },
   "outputs": [],
   "source": [
    "# Operations on selected parts of the image\n",
    "lx, ly = f.shape\n",
    "X, Y = np.ogrid[0:lx, 0:ly]\n",
    "\n",
    "mask = (X<100) + (Y<20)\n",
    "g = f.copy()\n",
    "g[mask] = 255\n",
    "plt.figure()\n",
    "plt.imshow(g, cmap=plt.cm.gray)"
   ]
  }
 ],
 "metadata": {
  "kernelspec": {
   "display_name": "Python 3 (ipykernel)",
   "language": "python",
   "name": "python3"
  },
  "language_info": {
   "codemirror_mode": {
    "name": "ipython",
    "version": 3
   },
   "file_extension": ".py",
   "mimetype": "text/x-python",
   "name": "python",
   "nbconvert_exporter": "python",
   "pygments_lexer": "ipython3",
   "version": "3.9.7"
  }
 },
 "nbformat": 4,
 "nbformat_minor": 2
}
